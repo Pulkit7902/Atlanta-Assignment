{
 "cells": [
  {
   "cell_type": "code",
   "execution_count": 9,
   "metadata": {},
   "outputs": [],
   "source": [
    "# Import necessary libraries\n",
    "import cv2  # For image processing\n",
    "import pytesseract  # For Optical Character Recognition (OCR)\n",
    "import numpy as np  # For array operations\n"
   ]
  },
  {
   "cell_type": "code",
   "execution_count": 10,
   "metadata": {},
   "outputs": [],
   "source": [
    "# Set the path to the Tesseract-OCR executable\n",
    "# Ensure you have Tesseract installed at this path\n",
    "pytesseract.pytesseract.tesseract_cmd = r\"C:\\Program Files\\Tesseract-OCR\\tesseract.exe\"\n",
    "\n"
   ]
  },
  {
   "cell_type": "code",
   "execution_count": 11,
   "metadata": {},
   "outputs": [],
   "source": [
    "# Load Haar Cascade classifier for license plate detection\n",
    "plate_cascade = cv2.CascadeClassifier(cv2.data.haarcascades + \"haarcascade_russian_plate_number.xml\")\n",
    "\n"
   ]
  },
  {
   "cell_type": "code",
   "execution_count": 12,
   "metadata": {},
   "outputs": [],
   "source": [
    "def preprocess_image(image):\n",
    "    \"\"\"\n",
    "    Preprocess the input image to improve plate detection.\n",
    "    - Convert the image to grayscale.\n",
    "    - Equalize the histogram to handle lighting variations.\n",
    "    \"\"\"\n",
    "    if image is None:\n",
    "        print(\"Error: Image could not be loaded.\")\n",
    "        return None\n",
    "    gray = cv2.cvtColor(image, cv2.COLOR_BGR2GRAY)\n",
    "    gray = cv2.equalizeHist(gray)\n",
    "    return gray\n"
   ]
  },
  {
   "cell_type": "code",
   "execution_count": 13,
   "metadata": {},
   "outputs": [],
   "source": [
    "def recognize_plate(plate_img):\n",
    "    \"\"\"\n",
    "    Perform OCR on the cropped license plate image.\n",
    "    - Use Tesseract with custom configurations for better accuracy.\n",
    "    \"\"\"\n",
    "    plate_text = pytesseract.image_to_string(plate_img, config='--psm 8 --oem 3')\n",
    "    return plate_text.strip()  # Remove any leading or trailing spaces\n"
   ]
  },
  {
   "cell_type": "code",
   "execution_count": 14,
   "metadata": {},
   "outputs": [],
   "source": [
    "def detect_plate_in_image(image_path):\n",
    "    \"\"\"\n",
    "    Detect license plates in an image and annotate the detected plates.\n",
    "    - Draw rectangles around detected plates.\n",
    "    - Use OCR to recognize and display the license plate text.\n",
    "    \"\"\"\n",
    "    img = cv2.imread(image_path)\n",
    "    if img is None:\n",
    "        print(\"Error: Could not read image.\")\n",
    "        return\n",
    "\n",
    "    # Preprocess the image\n",
    "    gray = preprocess_image(img)\n",
    "    if gray is None:\n",
    "        return\n",
    "\n",
    "    # Detect license plates in the image\n",
    "    plates = plate_cascade.detectMultiScale(gray, scaleFactor=1.2, minNeighbors=5, minSize=(25, 25))\n",
    "\n",
    "    for (x, y, w, h) in plates:\n",
    "        # Draw a rectangle around the detected plate\n",
    "        cv2.rectangle(img, (x, y), (x + w, y + h), (255, 0, 0), 2)\n",
    "        \n",
    "        # Extract the plate region and recognize text\n",
    "        plate_img = img[y:y + h, x:x + w]\n",
    "        plate_text = recognize_plate(plate_img)\n",
    "        \n",
    "        # Annotate the image with the recognized text\n",
    "        cv2.putText(img, f'Plate: {plate_text}', (x - 3, y - 10), cv2.FONT_HERSHEY_SIMPLEX, 1, (0, 255, 0), 2)\n",
    "\n",
    "    # Display the annotated image\n",
    "    cv2.imshow('Number Plate Recognition', img)\n",
    "    cv2.waitKey(0)\n",
    "    cv2.destroyAllWindows()\n"
   ]
  },
  {
   "cell_type": "code",
   "execution_count": 15,
   "metadata": {},
   "outputs": [],
   "source": [
    "def detect_plate_in_video(video_path):\n",
    "    \"\"\"\n",
    "    Detect license plates in a video and annotate frames in real time.\n",
    "    - Draw rectangles around detected plates in each frame.\n",
    "    - Use OCR to recognize and display license plate text.\n",
    "    \"\"\"\n",
    "    video = cv2.VideoCapture(video_path)\n",
    "    if not video.isOpened():\n",
    "        print(\"Error: Could not open video.\")\n",
    "        return\n",
    "\n",
    "    while True:\n",
    "        ret, frame = video.read()\n",
    "        if not ret:\n",
    "            print(\"Error: Failed to read video frame.\")\n",
    "            break\n",
    "\n",
    "        # Preprocess the current frame\n",
    "        gray = preprocess_image(frame)\n",
    "        if gray is None:\n",
    "            continue\n",
    "\n",
    "        # Detect license plates in the frame\n",
    "        plates = plate_cascade.detectMultiScale(gray, scaleFactor=1.2, minNeighbors=5, minSize=(25, 25))\n",
    "\n",
    "        for (x, y, w, h) in plates:\n",
    "            # Draw a rectangle around the detected plate\n",
    "            cv2.rectangle(frame, (x, y), (x + w, y + h), (255, 0, 0), 2)\n",
    "            \n",
    "            # Extract the plate region and recognize text\n",
    "            plate_img = frame[y:y + h, x:x + w]\n",
    "            plate_text = recognize_plate(plate_img)\n",
    "            \n",
    "            # Annotate the frame with the recognized text\n",
    "            cv2.putText(frame, f'Plate: {plate_text}', (x - 3, y - 10), cv2.FONT_HERSHEY_SIMPLEX, 1, (0, 255, 0), 2)\n",
    "\n",
    "        # Display the annotated frame\n",
    "        cv2.imshow('Video Plate Recognition', frame)\n",
    "\n",
    "        # Press 'q' to stop the video\n",
    "        if cv2.waitKey(25) & 0xFF == ord('q'):\n",
    "            break\n",
    "\n",
    "    video.release()\n",
    "    cv2.destroyAllWindows()\n"
   ]
  },
  {
   "cell_type": "code",
   "execution_count": 20,
   "metadata": {},
   "outputs": [],
   "source": [
    "# Run the detection on an image\n",
    "detect_plate_in_image('images/Cars415.png')\n",
    "\n",
    "# Run the detection on a video\n",
    "detect_plate_in_video('vid.mp4')\n"
   ]
  },
  {
   "cell_type": "code",
   "execution_count": 19,
   "metadata": {},
   "outputs": [],
   "source": []
  }
 ],
 "metadata": {
  "kernelspec": {
   "display_name": "base",
   "language": "python",
   "name": "python3"
  },
  "language_info": {
   "codemirror_mode": {
    "name": "ipython",
    "version": 3
   },
   "file_extension": ".py",
   "mimetype": "text/x-python",
   "name": "python",
   "nbconvert_exporter": "python",
   "pygments_lexer": "ipython3",
   "version": "3.9.7"
  }
 },
 "nbformat": 4,
 "nbformat_minor": 2
}
